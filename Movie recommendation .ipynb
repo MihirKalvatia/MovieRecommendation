{
 "cells": [
  {
   "cell_type": "code",
   "execution_count": 2,
   "id": "8b5c22ae",
   "metadata": {},
   "outputs": [
    {
     "name": "stderr",
     "output_type": "stream",
     "text": [
      "c:\\python39\\lib\\site-packages\\fuzzywuzzy\\fuzz.py:11: UserWarning: Using slow pure-python SequenceMatcher. Install python-Levenshtein to remove this warning\n",
      "  warnings.warn('Using slow pure-python SequenceMatcher. Install python-Levenshtein to remove this warning')\n"
     ]
    }
   ],
   "source": [
    "import pandas as pd\n",
    "from scipy.sparse import csr_matrix\n",
    "from sklearn.neighbors import NearestNeighbors\n",
    "from fuzzywuzzy import process"
   ]
  },
  {
   "cell_type": "code",
   "execution_count": 3,
   "id": "9ded46d0",
   "metadata": {},
   "outputs": [
    {
     "data": {
      "text/plain": [
       "'C:\\\\Users\\\\Lenovo'"
      ]
     },
     "execution_count": 3,
     "metadata": {},
     "output_type": "execute_result"
    }
   ],
   "source": [
    "import os\n",
    "os.getcwd()"
   ]
  },
  {
   "cell_type": "code",
   "execution_count": 4,
   "id": "54745e97",
   "metadata": {},
   "outputs": [],
   "source": [
    "os.chdir('C:\\\\Users\\\\Lenovo\\\\Downloads\\\\ml-latest-small\\\\ml-latest-small')"
   ]
  },
  {
   "cell_type": "code",
   "execution_count": 5,
   "id": "d8fc1dca",
   "metadata": {},
   "outputs": [],
   "source": [
    "movies='movies.csv'\n",
    "ratings='ratings.csv'\n",
    "\n",
    "df_movies=pd.read_csv(movies, usecols=['movieId','title'], dtype={'movieId':'int32','title':'str'})\n",
    "df_ratings=pd.read_csv(ratings, usecols=['userId','movieId','rating'],dtype={'userId':'int32','movieId':'int32','rating':'float32'})"
   ]
  },
  {
   "cell_type": "code",
   "execution_count": 6,
   "id": "50f45906",
   "metadata": {},
   "outputs": [],
   "source": [
    "movies_users=df_ratings.pivot(index='movieId', columns='userId',values='rating').fillna(0)\n",
    "mat_movies_users=csr_matrix(movies_users.values)"
   ]
  },
  {
   "cell_type": "code",
   "execution_count": 7,
   "id": "205f6974",
   "metadata": {},
   "outputs": [],
   "source": [
    "model_knn= NearestNeighbors(metric='cosine', algorithm='brute', n_neighbors=20)"
   ]
  },
  {
   "cell_type": "code",
   "execution_count": 8,
   "id": "9db6c727",
   "metadata": {},
   "outputs": [
    {
     "data": {
      "text/plain": [
       "NearestNeighbors(algorithm='brute', metric='cosine', n_neighbors=20)"
      ]
     },
     "execution_count": 8,
     "metadata": {},
     "output_type": "execute_result"
    }
   ],
   "source": [
    "model_knn.fit(mat_movies_users)"
   ]
  },
  {
   "cell_type": "code",
   "execution_count": 10,
   "id": "5c3216e6",
   "metadata": {},
   "outputs": [
    {
     "name": "stdout",
     "output_type": "stream",
     "text": [
      "Movie Selected:  Forrest Gump (1994) Index:  314\n",
      "Searching for recommendations.....\n",
      "314                                       NaN\n",
      "277          Shawshank Redemption, The (1994)\n",
      "418                      Jurassic Park (1993)\n",
      "257                       Pulp Fiction (1994)\n",
      "97                          Braveheart (1995)\n",
      "510          Silence of the Lambs, The (1991)\n",
      "123                          Apollo 13 (1995)\n",
      "1938               Walk on the Moon, A (1999)\n",
      "436                     Mrs. Doubtfire (1993)\n",
      "461                   Schindler's List (1993)\n",
      "507         Terminator 2: Judgment Day (1991)\n",
      "322                     Lion King, The (1994)\n",
      "43                Seven (a.k.a. Se7en) (1995)\n",
      "398                      Fugitive, The (1993)\n",
      "334                              Speed (1994)\n",
      "514                       Pretty Woman (1990)\n",
      "2224    Home Alone 2: Lost in New York (1992)\n",
      "508                 Dances with Wolves (1990)\n",
      "46                 Usual Suspects, The (1995)\n",
      "506                            Aladdin (1992)\n",
      "Name: title, dtype: object\n"
     ]
    }
   ],
   "source": [
    "def recommender(movie_name, data,model, n_recommendations ):\n",
    "    model.fit(data)\n",
    "    idx=process.extractOne(movie_name, df_movies['title'])[2]\n",
    "    print('Movie Selected: ',df_movies['title'][idx], 'Index: ',idx)\n",
    "    print('Searching for recommendations.....')\n",
    "    distances, indices=model.kneighbors(data[idx], n_neighbors=n_recommendations)\n",
    "    for i in indices:\n",
    "        print(df_movies['title'][i].where(i!=idx))\n",
    "    \n",
    "recommender('forrest gump', mat_movies_users, model_knn,20)"
   ]
  },
  {
   "cell_type": "code",
   "execution_count": null,
   "id": "b7ad9853",
   "metadata": {},
   "outputs": [],
   "source": []
  }
 ],
 "metadata": {
  "kernelspec": {
   "display_name": "Python 3 (ipykernel)",
   "language": "python",
   "name": "python3"
  },
  "language_info": {
   "codemirror_mode": {
    "name": "ipython",
    "version": 3
   },
   "file_extension": ".py",
   "mimetype": "text/x-python",
   "name": "python",
   "nbconvert_exporter": "python",
   "pygments_lexer": "ipython3",
   "version": "3.9.6"
  }
 },
 "nbformat": 4,
 "nbformat_minor": 5
}
